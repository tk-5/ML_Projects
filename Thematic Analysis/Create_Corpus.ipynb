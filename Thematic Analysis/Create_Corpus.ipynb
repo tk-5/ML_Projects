{
 "cells": [
  {
   "cell_type": "code",
   "execution_count": 1,
   "metadata": {},
   "outputs": [
    {
     "name": "stderr",
     "output_type": "stream",
     "text": [
      "C:\\Users\\TUSHAR\\Anaconda3\\lib\\site-packages\\gensim\\utils.py:1209: UserWarning: detected Windows; aliasing chunkize to chunkize_serial\n",
      "  warnings.warn(\"detected Windows; aliasing chunkize to chunkize_serial\")\n"
     ]
    }
   ],
   "source": [
    "import json\n",
    "from pprint import pprint\n",
    "import pandas as pd\n",
    "import os\n",
    "\n",
    "from gensim.summarization import summarize"
   ]
  },
  {
   "cell_type": "code",
   "execution_count": 2,
   "metadata": {
    "collapsed": true
   },
   "outputs": [],
   "source": [
    "path = 'C:\\\\Users\\\\TUSHAR\\\\Desktop\\\\unis_MSD\\\\capstone project\\\\notion\\\\dataset\\\\R4'\n",
    "articles=[]\n",
    "summary_df=pd.DataFrame(['id','title','summary'])\n",
    "\n",
    "idList=[]\n",
    "titleList=[]\n",
    "summaryList=[]\n",
    "count=0\n",
    "bigCorpus=''"
   ]
  },
  {
   "cell_type": "code",
   "execution_count": 3,
   "metadata": {},
   "outputs": [
    {
     "name": "stdout",
     "output_type": "stream",
     "text": [
      "1459\n"
     ]
    }
   ],
   "source": [
    "files_name = os.listdir(path)\n",
    "os.chdir(path)\n",
    "\n",
    "for file in files_name:\n",
    "    if(file.endswith('.json')):\n",
    "        tempf=open(file,'rb')\n",
    "        data = json.load(tempf)\n",
    "        \n",
    "        try:\n",
    "            for article in data['result']['docs']:\n",
    "                count=count+1\n",
    "            #articles.append([article['id'],article['title'],' '.join(article['content'].split())])\n",
    "                tempsum=article['content']\n",
    "                tsum= ' '.join(tempsum.split())\n",
    "                bigCorpus=bigCorpus+tsum\n",
    "                articles.append([article['id'],article['title'],tsum])\n",
    "                \n",
    "        except:\n",
    "            print('only 1 line',article['content'])\n",
    "        \n",
    "articles_df = pd.DataFrame(articles,columns = ['id','title','content'])\n",
    "#articles_df.to_csv('article_corpus.csv',index=False,encoding='utf-8')\n",
    "\n",
    "print(count)"
   ]
  },
  {
   "cell_type": "code",
   "execution_count": 5,
   "metadata": {},
   "outputs": [
    {
     "data": {
      "text/plain": [
       "6156163"
      ]
     },
     "execution_count": 5,
     "metadata": {},
     "output_type": "execute_result"
    }
   ],
   "source": [
    "fullcorpus = open('fullCorpus','w', encoding=\"utf-8\")\n",
    "fullcorpus.write(bigCorpus)"
   ]
  },
  {
   "cell_type": "code",
   "execution_count": 6,
   "metadata": {
    "collapsed": true
   },
   "outputs": [],
   "source": [
    "fullcorpus.flush()\n",
    "fullcorpus.close()"
   ]
  },
  {
   "cell_type": "code",
   "execution_count": null,
   "metadata": {
    "collapsed": true
   },
   "outputs": [],
   "source": [
    "# Didn't work\n",
    "\n",
    "summaryCorpus=summarize(bigCorpus)\n",
    "Sumcorpus = open('summaryCorpus','w', encoding=\"utf-8\")\n",
    "Sumcorpus.write(summaryCorpus, encoding=\"utf-8\")"
   ]
  },
  {
   "cell_type": "code",
   "execution_count": null,
   "metadata": {
    "collapsed": true
   },
   "outputs": [],
   "source": []
  }
 ],
 "metadata": {
  "kernelspec": {
   "display_name": "Python 3",
   "language": "python",
   "name": "python3"
  },
  "language_info": {
   "codemirror_mode": {
    "name": "ipython",
    "version": 3
   },
   "file_extension": ".py",
   "mimetype": "text/x-python",
   "name": "python",
   "nbconvert_exporter": "python",
   "pygments_lexer": "ipython3",
   "version": "3.6.3"
  }
 },
 "nbformat": 4,
 "nbformat_minor": 2
}
