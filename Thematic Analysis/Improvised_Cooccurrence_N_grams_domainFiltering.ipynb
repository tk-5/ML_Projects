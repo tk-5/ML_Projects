{
 "cells": [
  {
   "cell_type": "code",
   "execution_count": 1,
   "metadata": {},
   "outputs": [
    {
     "name": "stderr",
     "output_type": "stream",
     "text": [
      "C:\\Users\\TUSHAR\\Anaconda3\\lib\\site-packages\\gensim\\utils.py:1209: UserWarning: detected Windows; aliasing chunkize to chunkize_serial\n",
      "  warnings.warn(\"detected Windows; aliasing chunkize to chunkize_serial\")\n"
     ]
    },
    {
     "name": "stdout",
     "output_type": "stream",
     "text": [
      "[nltk_data] Downloading package stopwords to\n",
      "[nltk_data]     C:\\Users\\TUSHAR\\AppData\\Roaming\\nltk_data...\n",
      "[nltk_data]   Package stopwords is already up-to-date!\n"
     ]
    }
   ],
   "source": [
    "import pandas as pd\n",
    "import json\n",
    "import os\n",
    "import numpy as np\n",
    "\n",
    "import sentiwordnet\n",
    "import wndomains\n",
    "import geowordnet\n",
    "\n",
    "import gensim\n",
    "import gensim.corpora as corpora\n",
    "from gensim.corpora import Dictionary\n",
    "from gensim.utils import simple_preprocess\n",
    "from gensim.models import CoherenceModel\n",
    "from gensim.models.ldamodel import LdaModel\n",
    "\n",
    "from nltk.corpus import stopwords\n",
    "from nltk.tokenize import sent_tokenize\n",
    "from nltk.stem import WordNetLemmatizer\n",
    "#import spacy\n",
    "import nltk\n",
    "nltk.download('stopwords')\n",
    "\n",
    "from nltk.corpus import wordnet as wn\n",
    "\n",
    "# spacy for lemmatization\n",
    "import spacy\n",
    "#nlp = spacy.load('en', disable=['parser', 'ner'])\n",
    "nlp = spacy.load('en')"
   ]
  },
  {
   "cell_type": "code",
   "execution_count": 2,
   "metadata": {
    "collapsed": true
   },
   "outputs": [],
   "source": [
    "# tokenize\n",
    "def tokenize_words(text):\n",
    "    token = []\n",
    "    count=0\n",
    "    lemmat_tokens=[]\n",
    "    wordnet_lemmatizer = WordNetLemmatizer()\n",
    "    total = len(text)\n",
    "    #print((total))    \n",
    "    try:        \n",
    "        for i in range(total):\n",
    "            count=count+1\n",
    "            if(text[i] == '' or pd.isnull(text[i])):\n",
    "                #print(\"empty str\")\n",
    "                num=9\n",
    "            else:\n",
    "                swtoken=[]\n",
    "                swrtoken=[]\n",
    "                swtoken=gensim.utils.simple_preprocess(text[i],deacc=True)\n",
    "                token.append(swtoken)\n",
    "                    \n",
    "    except:\n",
    "        print(\"text = \",text[i])\n",
    "    \n",
    "    return token "
   ]
  },
  {
   "cell_type": "code",
   "execution_count": 3,
   "metadata": {
    "collapsed": true
   },
   "outputs": [],
   "source": [
    "path = 'C:\\\\Users\\\\TUSHAR\\\\Desktop\\\\unis_MSD\\\\capstone project\\\\notion\\\\dataset\\\\R4'\n",
    "os.chdir(path)\n",
    "\n",
    "data_df=pd.read_csv('article_content.csv', encoding='utf-8')\n",
    "#data_df=pd.read_csv('20_article_content.csv', encoding='utf-8')\n",
    "summary_text=list(data_df['content'])\n",
    "\n",
    "from nltk.corpus import stopwords\n",
    "stopWords = stopwords.words('english')\n",
    "#stopWords = list(stopwords.words('english'))\n",
    "stopWords.extend([\"commission\",\"royal\",\"said\",\"australia\",\"let\",\"told\",\"also\",\"ms\",\"com\",\"www\",\"https\",\"au\",\"us\",\"would\",\"mailto\",\"subject\",\"body\",\"says\",\"orr\",\"acbf\",\"mr\"]) \n",
    "\n",
    "#tokens = tokenize_words(summary_text)\n",
    "data_words = tokenize_words(summary_text)\n",
    "\n",
    "big_corpus=''\n",
    "for article in summary_text:\n",
    "    big_corpus=big_corpus+np.str(article)"
   ]
  },
  {
   "cell_type": "code",
   "execution_count": 8,
   "metadata": {
    "collapsed": true
   },
   "outputs": [],
   "source": [
    "def spacyNER(text):\n",
    "    nlp = spacy.load('en')\n",
    "    nerList=[]\n",
    "    doc=nlp(text)\n",
    "    for ent in doc.ents:\n",
    "        nerEntry=ent.text+'_'+ent.label_\n",
    "        nerList.append(nerEntry)\n",
    "    print(nerList)\n",
    "    return nerList\n",
    "\n",
    "#big_corpus1='Apple is a big company in China'\n",
    "#for article in summary_text[:10]:\n",
    "    #big_corpus=big_corpus+np.str(article)\n",
    "\n",
    "#nerList = spacyNER(big_corpus1)"
   ]
  },
  {
   "cell_type": "code",
   "execution_count": 5,
   "metadata": {
    "collapsed": true
   },
   "outputs": [],
   "source": [
    "#print(nerList)"
   ]
  },
  {
   "cell_type": "code",
   "execution_count": 4,
   "metadata": {},
   "outputs": [
    {
     "name": "stderr",
     "output_type": "stream",
     "text": [
      "C:\\Users\\TUSHAR\\Anaconda3\\lib\\site-packages\\gensim\\models\\phrases.py:598: UserWarning: For a faster implementation, use the gensim.models.phrases.Phraser class\n",
      "  warnings.warn(\"For a faster implementation, use the gensim.models.phrases.Phraser class\")\n"
     ]
    }
   ],
   "source": [
    "# Build the bigram and trigram models\n",
    "bigram = gensim.models.Phrases(data_words, min_count=1, threshold=2) # higher threshold fewer phrases.\n",
    "trigram = gensim.models.Phrases(bigram[data_words], threshold=2)  \n",
    "\n",
    "# Faster way to get a sentence clubbed as a trigram/bigram\n",
    "bigram_mod = gensim.models.phrases.Phraser(bigram)\n",
    "trigram_mod = gensim.models.phrases.Phraser(trigram)\n",
    "\n",
    "# See trigram example\n",
    "#print(trigram_mod[bigram_mod[data_words[0]]])"
   ]
  },
  {
   "cell_type": "code",
   "execution_count": 5,
   "metadata": {
    "collapsed": true
   },
   "outputs": [],
   "source": [
    "# Define functions for stopwords, bigrams, trigrams and lemmatization\n",
    "def remove_stopwords(texts):\n",
    "    return [[word for word in simple_preprocess(str(doc)) if word not in stopWords] for doc in texts]\n",
    "\n",
    "def make_bigrams(texts):\n",
    "    return [bigram_mod[doc] for doc in texts]\n",
    "\n",
    "def make_trigrams(texts):\n",
    "    return [trigram_mod[bigram_mod[doc]] for doc in texts]\n",
    "\n",
    "def lemmatization(texts, allowed_postags=['NOUN', 'ADJ', 'VERB', 'ADV']):\n",
    "    \"\"\"https://spacy.io/api/annotation\"\"\"\n",
    "    texts_out = []\n",
    "    for sent in texts:\n",
    "        doc = nlp(\" \".join(sent)) \n",
    "        texts_out.append([token.lemma_ for token in doc if token.pos_ in allowed_postags])\n",
    "    return texts_out\n",
    "\n",
    "def spacyNER(text):\n",
    "    nlp = spacy.load('en_core_web_sm')\n",
    "    nerList=[]\n",
    "    doc=nlp(text)\n",
    "    for ent in doc.ents:\n",
    "        nerEntry=ent.text+'_'+ent.label_\n",
    "        nerList.append(nerEntry)\n",
    "    return nerList"
   ]
  },
  {
   "cell_type": "code",
   "execution_count": 6,
   "metadata": {},
   "outputs": [],
   "source": [
    "# Remove Stop Words\n",
    "data_words_nostops = remove_stopwords(data_words)\n",
    "\n",
    "# Form Bigrams\n",
    "data_words_bigrams = make_bigrams(data_words_nostops)\n",
    "data_words_trigrams = make_trigrams(data_words_nostops)\n",
    "\n",
    "nlp = spacy.load('en')\n",
    "\n",
    "# Do lemmatization keeping only noun, adj, vb, adv\n",
    "data_lemmatized = lemmatization(data_words_trigrams, allowed_postags=['NOUN', 'ADJ', 'VERB', 'ADV'])\n",
    "\n",
    "#nerList = spacyNER(big_corpus)\n",
    "#print(data_lemmatized[:1])"
   ]
  },
  {
   "cell_type": "code",
   "execution_count": 7,
   "metadata": {
    "collapsed": true
   },
   "outputs": [],
   "source": [
    "# Create Dictionary\n",
    "id2word = corpora.Dictionary(data_lemmatized)\n",
    "\n",
    "# Create Corpus\n",
    "texts = data_lemmatized\n",
    "\n",
    "# Term Document Frequency\n",
    "corpus = [id2word.doc2bow(text) for text in texts]\n",
    "\n",
    "# View\n",
    "#print(corpus[:1])"
   ]
  },
  {
   "cell_type": "code",
   "execution_count": 8,
   "metadata": {
    "collapsed": true
   },
   "outputs": [],
   "source": [
    "# Build LDA model\n",
    "lmodel = gensim.models.ldamodel.LdaModel(corpus=corpus,\n",
    "                                           id2word=id2word,\n",
    "                                           num_topics=30, \n",
    "                                           random_state=100,\n",
    "                                           update_every=1,\n",
    "                                           chunksize=100,\n",
    "                                           passes=10,\n",
    "                                           iterations=50,\n",
    "                                           alpha='auto',\n",
    "                                           per_word_topics=True)"
   ]
  },
  {
   "cell_type": "code",
   "execution_count": 9,
   "metadata": {},
   "outputs": [
    {
     "name": "stdout",
     "output_type": "stream",
     "text": [
      "['investor', 'market', 'fall', 'stock', 'growth', 'price', 'tighten', 'today', 'sector', 'line', 'fund', 'manage', 'member', 'interest_rate', 'look', 'government', 'set', 'level', 'own', 'invest', 'funeral_plan', 'fund', 'community_benefit', 'fall', 'jone', 'funeral_insurer', 'corporate_watchdog', 'describe', 'advertising', 'scrutiny_aboriginal', 'bank', 'loan', 'banking', 'customer', 'policy', 'hear', 'call', 'sell', 'company', 'meet', 'think', 'need', 'year', 'australian', 'important', 'company', 'want', 'new', 'industry', 'china', 'funeral_insurance', 'walsh', 'family', 'work', 'indigenous_communitie', 'tracey_walsh', 'insurer', 'indigenous_consumer', 'fund', 'probe', 'bank', 'rate', 'borrower', 'continue', 'cost', 'ability', 'growth', 'increase', 'share', 'big_four', 'child', 'torres_strait', 'aboriginal', 'funeral', 'admit', 'rowena', 'targeted_indigenous', 'counsel_assisting', 'community', 'polici', 'monetary_policy', 'response', 'financial_crisis', 'limit', 'use', 'next_three', 'come', 'disrupt', 'interest_mortgage', 'system', 'broker', 'force', 'exist', 'finance', 'debt', 'financial_plann', 'slowdown', 'industry', 'receive', 'group', 'reserve_bank', 'economy', 'rate', 'housing_market', 'growth', 'brauer', 'failure', 'expectation', 'collapse', 'banking', 'much', 'news', 'thousand', 'follow', 'mortgage', 'recommendation', 'state', 'trust', 'unable', 'lender', 'per_cent', 'reserve_bank', 'war', 'rba', 'trade_war', 'high', 'pm', 'back', 'asx_index', 'friday', 'insure', 'sunshine_coast', 'cruise', 'world_show_subsections_world', 'westpac', 'vespa', 'conflict', 'new', 'incentive_schemes', 'sydney_call', 'sale', 'spike', 'assess', 'howden', 'lead', 'properly', 'sales_representatif', 'spend', 'financial_exclusion', 'sydney', 'pay', 'plan', 'sign', 'mislead', 'death', 'insurance_company', 'people', 'premium', 'event', 'victoria_believ', 'darwin_tuesday', 'break', 'indigenous_australian', 'rent', 'per_cent', 'valuation', 'margin', 'heard_anz', 'earning', 'early', 'per_cent', 'year', 'money', 'financial_year', 'cent', 'nathan_boyle', 'tear', 'tuesday_asic', 'aboriginal_person', 'see', 'due', 'process', 'amount', 'see', 'think', 'wait', 'job', 'victoria', 'walk', 'people', 'rainbow_serpent', 'image', 'aboriginal_organisation', 'high', 'vulnerable_people', 'cover', 'poster', 'insurance', 'recall', 'common', 'car', 'visit', 'indigenous_people', 'rural_bank', 'bank', 'torres_strait_islander_people', 'include', 'week', 'lynda_edward', 'report', 'cut', 'business', 'represent', 'prime_minister_malcolm_turnbull', 'brisbane', 'claim', 'remain', 'campaign', 'tax_cut', 'point', 'appear', 'financial_service', 'reason', 'jone', 'second_day', 'ceo_bryn', 'emerge', 'world', 'time', 'misconduct', 'insurance_industry', 'editorial', 'amp', 'business', 'financial_planner', 'find', 'produce', 'law_firm', 'costly_funeral', 'independent_report', 'product', 'wealth_management', 'service', 'name', 'cba', 'representation', 'business', 'find', 'bank', 'australian_securitie', 'australian', 'june', 'indigenous_community', 'rise', 'market', 'sign', 'year', 'health_insurance', 'datum', 'marika', 'per_cent', 'may', 'expense', 'contribution', 'majority', 'split', 'cash_rate', 'funding_cost', 'decide', 'major_bank', 'smh', 'theaustralian', 'june_pm', 'news_story', 'june', 'repay', 'clayton_utz', 'politics_federal', 'economy', 'html', 'home_loan', 'financial_adviser', 'adviser', 'market', 'experience', 'avoid', 'employee', 'time', 'property', 'interest', 'firm', 'end', 'report', 'opportunity', 'per_cent', 'expect', 'likely', 'clayton_utz', 'year', 'investigation']\n",
      "['borrower', 'admit', 'jone', 'disrupt', 'aboriginal', 'policy', 'meet', 'cut', 'own', 'properly', 'australian', 'ability', 'funeral_insurer', 'walk', 'economy', 'html', 'sales_representatif', 'costly_funeral', 'growth', 'failure', 'important', 'aboriginal_organisation', 'sydney_call', 'fund', 'bank', 'likely', 'tuesday_asic', 'scrutiny_aboriginal', 'adviser', 'image', 'walsh', 'torres_strait_islander_people', 'break', 'indigenous_australian', 'torres_strait', 'find', 'insurer', 'set', 'market', 'year', 'mortgage', 'rba', 'follow', 'war', 'wealth_management', 'trust', 'home_loan', 'incentive_schemes', 'news_story', 'victoria', 'early', 'government', 'tax_cut', 'cash_rate', 'australian_securitie', 'theaustralian', 'force', 'receive', 'howden', 'mislead', 'split', 'june_pm', 'counsel_assisting', 'due', 'monetary_policy', 'lynda_edward', 'indigenous_communitie', 'common', 'tracey_walsh', 'want', 'funeral', 'look', 'use', 'interest_mortgage', 'work', 'level', 'premium', 'valuation', 'advertising', 'china', 'rent', 'representation', 'include', 'amount', 'datum', 'unable', 'cover', 'share', 'name', 'rural_bank', 'time', 'polici', 'poster', 'major_bank', 'assess', 'limit', 'wait', 'insurance', 'report', 'interest', 'invest', 'funeral_insurance', 'price', 'insure', 'debt', 'cruise', 'fall', 'property', 'heard_anz', 'produce', 'expense', 'financial_crisis', 'experience', 'rowena', 'per_cent', 'funeral_plan', 'plan', 'ceo_bryn', 'smh', 'represent', 'high', 'increase', 'lead', 'thousand', 'margin', 'response', 'insurance_company', 'brauer', 'politics_federal', 'call', 'westpac', 'event', 'indigenous_people', 'line', 'hear', 'car', 'tighten', 'expectation', 'campaign', 'darwin_tuesday', 'friday', 'expect', 'repay', 'contribution', 'sale', 'cba', 'slowdown', 'probe', 'vespa', 'think', 'customer', 'job', 'employee', 'news', 'corporate_watchdog', 'opportunity', 'big_four', 'sydney', 'asx_index', 'service', 'week', 'community', 'remain', 'spike', 'exist', 'process', 'product', 'lender', 'independent_report', 'rainbow_serpent', 'member', 'state', 'broker', 'world_show_subsections_world', 'majority', 'financial_adviser', 'financial_plann', 'brisbane', 'recall', 'sector', 'system', 'conflict', 'insurance_industry', 'company', 'prime_minister_malcolm_turnbull', 'rate', 'cent', 'tear', 'see', 'appear', 'industry', 'today', 'much', 'trade_war', 'amp', 'sell', 'new', 'stock', 'avoid', 'firm', 'community_benefit', 'marika', 'investor', 'next_three', 'death', 'need', 'law_firm', 'end', 'earning', 'vulnerable_people', 'emerge', 'sign', 'spend', 'come', 'reserve_bank', 'decide', 'group', 'visit', 'reason', 'misconduct', 'claim', 'indigenous_community', 'child', 'editorial', 'interest_rate', 'collapse', 'continue', 'pay', 'recommendation', 'june', 'indigenous_consumer', 'business', 'world', 'manage', 'sunshine_coast', 'loan', 'aboriginal_person', 'housing_market', 'financial_service', 'funding_cost', 'point', 'financial_exclusion', 'pm', 'family', 'people', 'back', 'financial_planner', 'investigation', 'second_day', 'victoria_believ', 'money', 'describe', 'targeted_indigenous', 'banking', 'finance', 'nathan_boyle', 'cost', 'may', 'clayton_utz', 'financial_year', 'rise', 'health_insurance']\n"
     ]
    }
   ],
   "source": [
    "ltopics=[]\n",
    "for i in range(lmodel.num_topics):\n",
    "    topic_list_n=lmodel.print_topic(i)\n",
    "    temp_token_1=topic_list_n.split('+')\n",
    "    for ctoken in temp_token_1:\n",
    "        temp_token_2=ctoken.split('*')\n",
    "        temp_token_3 = temp_token_2[1]\n",
    "        temp_token_4=temp_token_3.split('\"')\n",
    "        ind_topic=temp_token_4[1]\n",
    "    #print(itop)\n",
    "        ltopics.append(np.str(ind_topic))\n",
    "    \n",
    "print(ltopics)\n",
    "unique_topic_list=list(set(ltopics))\n",
    "print(unique_topic_list)"
   ]
  },
  {
   "cell_type": "code",
   "execution_count": 10,
   "metadata": {},
   "outputs": [
    {
     "name": "stdout",
     "output_type": "stream",
     "text": [
      "262\n"
     ]
    }
   ],
   "source": [
    "print(len(unique_topic_list))"
   ]
  },
  {
   "cell_type": "code",
   "execution_count": 11,
   "metadata": {},
   "outputs": [
    {
     "name": "stdout",
     "output_type": "stream",
     "text": [
      "exception for topic  jone\n",
      "exception for topic  sales_representatif\n",
      "exception for topic  tuesday_asic\n",
      "exception for topic  walsh\n",
      "exception for topic  torres_strait_islander_people\n",
      "exception for topic  torres_strait\n",
      "exception for topic  rba\n",
      "exception for topic  australian_securitie\n",
      "exception for topic  theaustralian\n",
      "exception for topic  howden\n",
      "exception for topic  lynda_edward\n",
      "exception for topic  indigenous_communitie\n",
      "exception for topic  tracey_walsh\n",
      "exception for topic  polici\n",
      "exception for topic  heard_anz\n",
      "exception for topic  rowena\n",
      "exception for topic  per_cent\n",
      "exception for topic  ceo_bryn\n",
      "exception for topic  smh\n",
      "exception for topic  brauer\n",
      "exception for topic  westpac\n",
      "exception for topic  cba\n",
      "exception for topic  asx_index\n",
      "exception for topic  financial_plann\n",
      "exception for topic  prime_minister_malcolm_turnbull\n",
      "exception for topic  marika\n",
      "exception for topic  victoria_believ\n",
      "exception for topic  nathan_boyle\n",
      "exception for topic  clayton_utz\n",
      "['aboriginal', 'policy', 'cut', 'australian', 'funeral_insurer', 'economy', 'costly_funeral', 'failure', 'aboriginal_organisation', 'sydney_call', 'bank', 'scrutiny_aboriginal', 'indigenous_australian', 'find', 'war', 'wealth_management', 'home_loan', 'incentive_schemes', 'government', 'tax_cut', 'australian_securitie', 'force', 'counsel_assisting', 'due', 'monetary_policy', 'want', 'funeral', 'interest_mortgage', 'level', 'china', 'rural_bank', 'time', 'major_bank', 'assess', 'wait', 'report', 'interest', 'funeral_insurance', 'debt', 'experience', 'funeral_plan', 'response', 'politics_federal', 'indigenous_people', 'campaign', 'darwin_tuesday', 'probe', 'corporate_watchdog', 'opportunity', 'sydney', 'community', 'process', 'independent_report', 'member', 'state', 'world_show_subsections_world', 'majority', 'brisbane', 'cent', 'see', 'today', 'trade_war', 'community_benefit', 'death', 'law_firm', 'vulnerable_people', 'reserve_bank', 'group', 'reason', 'misconduct', 'claim', 'indigenous_community', 'interest_rate', 'world', 'sunshine_coast', 'aboriginal_person', 'financial_exclusion', 'people', 'back', 'investigation', 'second_day']\n",
      "81\n",
      "len_desired  73\n",
      "['law_firm', 'member', 'group', 'state', 'sunshine_coast', 'china', 'people', 'vulnerable_people', 'indigenous_people', 'economy', 'death', 'funeral', 'costly_funeral', 'funeral_insurer', 'funeral_insurance', 'funeral_plan', 'report', 'trade_war', 'war', 'time', 'level', 'counsel_assisting', 'government', 'home_loan', 'interest', 'interest_rate', 'interest_mortgage', 'indigenous_community', 'community_benefit', 'community', 'failure', 'policy', 'monetary_policy', 'back', 'major_bank', 'bank', 'rural_bank', 'reason', 'world_show_subsections_world', 'world', 'see', 'independent_report', 'cut', 'tax_cut', 'due', 'process', 'claim', 'brisbane', 'sydney_call', 'sydney', 'wealth_management', 'campaign', 'response', 'opportunity', 'incentive_schemes', 'wait', 'aboriginal_person', 'aboriginal', 'aboriginal_organisation', 'scrutiny_aboriginal', 'australian', 'indigenous_australian', 'australian_securitie', 'investigation', 'probe', 'darwin_tuesday', 'cent', 'majority', 'misconduct', 'financial_exclusion', 'politics_federal', 'debt', 'assess']\n"
     ]
    }
   ],
   "source": [
    "interested_doomains1=['administration','banking','commerce','economy','finance','health','humanities','insurance','money','social_science','tax']\n",
    "interested_doomains2=['geography','banking','economy','finance','insurance','social_science']\n",
    "interested_doomains3=['geography','law','finance','social_science']\n",
    "interested_doomains=['sociology','geography','law','social_science']\n",
    "interested_doomains5=['sociology','social_science']\n",
    "interested_doomains6=['banking','economy','finance']\n",
    "interested_topics=[]\n",
    "strength_list=[]\n",
    "\n",
    "for composite_topic in unique_topic_list:\n",
    "    try:\n",
    "        tlist=composite_topic.split('_')\n",
    "        for topic in tlist:\n",
    "            s = wn.synsets(topic)[0]\n",
    "            msc = wn.synset(s.name())\n",
    "            dtup=msc.domains()[:5]\n",
    "            #if composite_topic== 'funeral_insurance':\n",
    "                #print(\"funeral_insurance\", dtup)\n",
    "            for tup in dtup:\n",
    "                domain=tup[0]\n",
    "                strength=tup[1]\n",
    "                if domain in interested_doomains:\n",
    "                    if (composite_topic not in interested_topics and s.pos() == 'n'):\n",
    "                        interested_topics.append(composite_topic)\n",
    "                        strength_list.append(strength)\n",
    "                        #print('topic= ',composite_topic,'domain= ',domain,'strength= ','strength= ',strength, 'pos= ',s.pos())\n",
    "    except:\n",
    "        print('exception for topic ',composite_topic)\n",
    "            \n",
    "print(interested_topics)\n",
    "print(len(interested_topics))\n",
    "\n",
    "dfn=pd.DataFrame({'topic':interested_topics,'strength':strength_list})\n",
    "#dfn.columns=['topic','strength']\n",
    "len_total=dfn.topic.count()\n",
    "len_desired=np.int(len_total - round(len_total*.1))\n",
    "print('len_desired ',len_desired)\n",
    "\n",
    "sdf = dfn.sort_values(['strength'], ascending=False)['topic']\n",
    "#df_top=sdf['topic'].tolist()\n",
    "temp_topics=sdf.iloc[:np.int(len_desired)]\n",
    "final_topics=temp_topics.tolist()\n",
    "#print(df_top.head())\n",
    "print(final_topics)"
   ]
  },
  {
   "cell_type": "code",
   "execution_count": 12,
   "metadata": {},
   "outputs": [],
   "source": [
    "# Test WNXnet\n",
    "#s = wn.synsets('mortgage')[0]\n",
    "#print(s.name())\n",
    "#msc = wn.synset(s.name())\n",
    "#print(msc.domains()[:5])\n",
    "#dict1=msc.domains()[:5]\n",
    "#for key in dict1:\n",
    "    #domain=key[0]\n",
    "    #print(domain, key[1])"
   ]
  },
  {
   "cell_type": "code",
   "execution_count": 13,
   "metadata": {},
   "outputs": [
    {
     "name": "stdout",
     "output_type": "stream",
     "text": [
      "711\n"
     ]
    }
   ],
   "source": [
    "topics1=['aboriginal','islander','indigenous','mortality','breaches']\n",
    "#topics=['housing','loans','decreases','consecutive','trend']\n",
    "#topics2=unique_topic_list\n",
    "topics2=final_topics\n",
    "topics1=final_topics\n",
    "\n",
    "#tokensl1=tokens\n",
    "len_docs=len(data_lemmatized)\n",
    "print(len_docs)\n",
    "window=50\n",
    "topic_freq=dict()\n",
    "co_occur_net=dict()\n",
    "\n",
    "for t1 in topics1:\n",
    "    for t2 in topics2:\n",
    "        if(t1!= t2):\n",
    "            #Loop through the docs\n",
    "            for i in range(len_docs):\n",
    "                tokensl1=data_lemmatized[i]                \n",
    "                l=len(tokensl1)\n",
    "                #Loop through the tokens of a document\n",
    "                for j in range(l):\n",
    "                    if(tokensl1[j]==t1):\n",
    "                        if(j+1+window > l-1):\n",
    "                            end=l\n",
    "                        else:\n",
    "                            end=j+1+window\n",
    "            \n",
    "                        str=tokensl1[j+1:end]\n",
    "                        #print(str)\n",
    "                        if(t2 in str):\n",
    "                            #print(t1,t2,\"co-occurrence\")\n",
    "                            tkey=t1+':'+t2\n",
    "                            if(tkey in co_occur_net.keys()):\n",
    "                                co_freq=co_occur_net[tkey]\n",
    "                                co_occur_net[tkey]=co_freq+1\n",
    "                            else:\n",
    "                                co_occur_net[tkey]=1\n",
    "                                "
   ]
  },
  {
   "cell_type": "code",
   "execution_count": 14,
   "metadata": {},
   "outputs": [
    {
     "name": "stdout",
     "output_type": "stream",
     "text": [
      "{'law_firm': 5, 'member': 44, 'group': 63, 'state': 29, 'sunshine_coast': 27, 'china': 38, 'people': 104, 'vulnerable_people': 6, 'indigenous_people': 41, 'economy': 50, 'death': 27, 'funeral': 32, 'costly_funeral': 4, 'funeral_insurer': 14, 'funeral_insurance': 112, 'funeral_plan': 16, 'report': 76, 'trade_war': 24, 'war': 35, 'time': 136, 'level': 39, 'counsel_assisting': 23, 'government': 81, 'home_loan': 45, 'interest': 52, 'interest_rate': 36, 'interest_mortgage': 4, 'indigenous_community': 6, 'community_benefit': 17, 'community': 53, 'failure': 19, 'policy': 105, 'monetary_policy': 26, 'back': 81, 'major_bank': 25, 'bank': 490, 'rural_bank': 30, 'reason': 19, 'world_show_subsections_world': 13, 'world': 32, 'see': 101, 'independent_report': 5, 'cut': 52, 'tax_cut': 19, 'due': 46, 'process': 36, 'claim': 28, 'brisbane': 25, 'sydney_call': 10, 'sydney': 41, 'wealth_management': 39, 'campaign': 27, 'response': 15, 'opportunity': 51, 'incentive_schemes': 10, 'wait': 11, 'aboriginal_person': 3, 'aboriginal': 47, 'aboriginal_organisation': 12, 'scrutiny_aboriginal': 5, 'australian': 146, 'indigenous_australian': 10, 'australian_securitie': 29, 'investigation': 24, 'probe': 16, 'darwin_tuesday': 11, 'cent': 35, 'majority': 12, 'misconduct': 81, 'financial_exclusion': 3, 'politics_federal': 22, 'debt': 46, 'assess': 7}\n",
      "co_occur\n",
      "3104\n",
      "487\n",
      "0.15689432989690721\n"
     ]
    }
   ],
   "source": [
    "#Get Topic Frequency\n",
    "\n",
    "topic_freq=dict()\n",
    "\n",
    "for t1 in topics1:\n",
    "    for i in range(len_docs):\n",
    "        tokensl1=data_lemmatized[i]\n",
    "        l=len(tokensl1)\n",
    "        #Loop through the tokens of a document\n",
    "        for j in range(l):\n",
    "            if(tokensl1[j]==t1):\n",
    "                if(t1 in topic_freq.keys()):\n",
    "                    topic_freq[t1]=topic_freq[t1]+1\n",
    "                else:\n",
    "                    topic_freq[t1]=1\n",
    "\n",
    "print(topic_freq)\n",
    "print(\"co_occur\")\n",
    "\n",
    "tot_freq = 0\n",
    "max_freq = 0\n",
    "min_freq=9999\n",
    "for topic in topic_freq.keys():\n",
    "    tfreq= topic_freq[topic]\n",
    "    if(tfreq > max_freq):\n",
    "        max_freq=tfreq\n",
    "    if(tfreq<min_freq):\n",
    "        min_freq=tfreq\n",
    "    tot_freq=tot_freq+tfreq\n",
    "\n",
    "delta_freq=max_freq-min_freq\n",
    "print(tot_freq)\n",
    "print(delta_freq)\n",
    "print((max_freq-min_freq)/tot_freq)"
   ]
  },
  {
   "cell_type": "code",
   "execution_count": 15,
   "metadata": {
    "collapsed": true
   },
   "outputs": [],
   "source": [
    "# Edge Weighing as per Inverse Frequency evaluation\n",
    "edge_weight_conet=dict()\n",
    "\n",
    "for key,val in co_occur_net.items():\n",
    "    composite_topics=key.split(':')\n",
    "    source_topic=composite_topics[0]    \n",
    "    if(source_topic in topic_freq.keys()):\n",
    "        ind_freq=topic_freq[source_topic]\n",
    "        if(ind_freq > 0):\n",
    "            ew= val/np.int(ind_freq)\n",
    "            if(ew>0.2):\n",
    "                edge_weight_conet[key]=ew            "
   ]
  },
  {
   "cell_type": "code",
   "execution_count": 16,
   "metadata": {},
   "outputs": [
    {
     "name": "stdout",
     "output_type": "stream",
     "text": [
      "{'law_firm:report': 0.4, 'member:australian': 0.20454545454545456, 'state:group': 0.27586206896551724, 'state:bank': 0.27586206896551724, 'state:see': 0.20689655172413793, 'sunshine_coast:funeral_insurance': 0.2222222222222222, 'sunshine_coast:sydney': 0.3333333333333333, 'sunshine_coast:incentive_schemes': 0.3333333333333333, 'china:world': 0.21052631578947367, 'people:time': 0.20192307692307693, 'vulnerable_people:people': 0.5, 'vulnerable_people:funeral': 0.5, 'vulnerable_people:funeral_insurance': 0.5, 'vulnerable_people:indigenous_community': 0.5, 'vulnerable_people:community_benefit': 0.3333333333333333, 'vulnerable_people:aboriginal_organisation': 0.3333333333333333, 'vulnerable_people:darwin_tuesday': 0.3333333333333333, 'indigenous_people:aboriginal': 0.2926829268292683, 'economy:politics_federal': 0.24, 'death:funeral_insurance': 0.2222222222222222, 'death:funeral_plan': 0.25925925925925924, 'death:see': 0.2962962962962963, 'death:due': 0.2962962962962963, 'death:probe': 0.25925925925925924, 'funeral:people': 0.3125, 'funeral:funeral_insurance': 0.34375, 'funeral:community': 0.4375, 'funeral:policy': 0.34375, 'funeral:aboriginal': 0.40625, 'costly_funeral:people': 0.75, 'costly_funeral:death': 0.25, 'costly_funeral:funeral_insurance': 0.25, 'costly_funeral:counsel_assisting': 0.5, 'costly_funeral:policy': 1.0, 'costly_funeral:reason': 0.25, 'costly_funeral:australian_securitie': 0.25, 'costly_funeral:darwin_tuesday': 0.25, 'costly_funeral:misconduct': 0.25, 'funeral_insurer:funeral_plan': 0.5, 'funeral_insurer:counsel_assisting': 0.21428571428571427, 'funeral_insurer:community_benefit': 0.42857142857142855, 'funeral_insurer:community': 0.21428571428571427, 'funeral_insurer:aboriginal': 0.21428571428571427, 'funeral_insurer:aboriginal_organisation': 0.42857142857142855, 'funeral_insurer:scrutiny_aboriginal': 0.35714285714285715, 'funeral_insurer:indigenous_australian': 0.35714285714285715, 'funeral_insurer:darwin_tuesday': 0.2857142857142857, 'funeral_insurance:policy': 0.24107142857142858, 'funeral_plan:funeral_insurance': 0.25, 'funeral_plan:see': 0.5, 'trade_war:china': 0.2916666666666667, 'trade_war:war': 0.20833333333333334, 'trade_war:time': 0.20833333333333334, 'trade_war:interest_rate': 0.25, 'trade_war:australian': 0.4166666666666667, 'war:trade_war': 0.22857142857142856, 'war:back': 0.2571428571428571, 'level:time': 0.2564102564102564, 'level:bank': 0.28205128205128205, 'level:australian': 0.23076923076923078, 'counsel_assisting:funeral_insurance': 0.2608695652173913, 'government:bank': 0.20987654320987653, 'home_loan:interest': 0.3111111111111111, 'interest_rate:australian': 0.2222222222222222, 'indigenous_community:people': 0.5, 'indigenous_community:funeral_insurance': 0.5, 'indigenous_community:funeral_plan': 0.5, 'indigenous_community:policy': 0.5, 'indigenous_community:see': 0.5, 'indigenous_community:majority': 0.5, 'community_benefit:funeral_plan': 0.4117647058823529, 'community_benefit:bank': 0.23529411764705882, 'community_benefit:aboriginal': 0.23529411764705882, 'failure:bank': 0.3684210526315789, 'failure:rural_bank': 0.2631578947368421, 'failure:see': 0.21052631578947367, 'failure:claim': 0.21052631578947367, 'monetary_policy:interest_rate': 0.23076923076923078, 'major_bank:bank': 0.44, 'rural_bank:time': 0.4, 'reason:bank': 0.3157894736842105, 'world_show_subsections_world:funeral_insurance': 0.38461538461538464, 'world:bank': 0.21875, 'independent_report:law_firm': 0.4, 'independent_report:report': 0.6, 'cut:government': 0.25, 'tax_cut:government': 0.21052631578947367, 'tax_cut:policy': 0.2631578947368421, 'tax_cut:cut': 0.42105263157894735, 'due:see': 0.2391304347826087, 'process:bank': 0.2222222222222222, 'claim:bank': 0.32142857142857145, 'claim:misconduct': 0.21428571428571427, 'brisbane:bank': 0.24, 'sydney_call:sunshine_coast': 1.0, 'sydney_call:funeral_insurance': 1.0, 'sydney_call:sydney': 0.6, 'sydney_call:incentive_schemes': 0.9, 'sydney_call:misconduct': 0.3, 'sydney:sunshine_coast': 0.2926829268292683, 'wealth_management:group': 0.28205128205128205, 'wealth_management:bank': 0.20512820512820512, 'response:people': 0.26666666666666666, 'response:time': 0.4666666666666667, 'response:level': 0.4, 'response:bank': 0.5333333333333333, 'response:sydney': 0.26666666666666666, 'response:australian': 0.4, 'response:debt': 0.26666666666666666, 'incentive_schemes:sunshine_coast': 0.9, 'incentive_schemes:sydney': 0.9, 'wait:people': 0.2727272727272727, 'wait:time': 0.2727272727272727, 'wait:bank': 0.45454545454545453, 'wait:process': 0.2727272727272727, 'aboriginal_person:indigenous_people': 0.3333333333333333, 'aboriginal_person:death': 0.6666666666666666, 'aboriginal_person:funeral_insurance': 0.6666666666666666, 'aboriginal_person:indigenous_australian': 0.6666666666666666, 'aboriginal_person:financial_exclusion': 0.3333333333333333, 'aboriginal:community': 0.3404255319148936, 'aboriginal:policy': 0.2127659574468085, 'aboriginal_organisation:funeral_insurance': 0.5, 'aboriginal_organisation:funeral_plan': 0.3333333333333333, 'aboriginal_organisation:counsel_assisting': 0.25, 'aboriginal_organisation:community_benefit': 0.4166666666666667, 'aboriginal_organisation:scrutiny_aboriginal': 0.25, 'scrutiny_aboriginal:people': 0.4, 'scrutiny_aboriginal:death': 0.4, 'scrutiny_aboriginal:funeral_plan': 1.0, 'scrutiny_aboriginal:counsel_assisting': 0.6, 'scrutiny_aboriginal:community_benefit': 1.0, 'scrutiny_aboriginal:community': 0.4, 'scrutiny_aboriginal:aboriginal': 0.4, 'scrutiny_aboriginal:aboriginal_organisation': 0.4, 'indigenous_australian:indigenous_people': 0.3, 'indigenous_australian:funeral_insurance': 0.4, 'indigenous_australian:counsel_assisting': 0.3, 'indigenous_australian:community_benefit': 0.3, 'indigenous_australian:aboriginal_organisation': 0.4, 'indigenous_australian:scrutiny_aboriginal': 0.3, 'australian_securitie:bank': 0.20689655172413793, 'investigation:report': 0.25, 'investigation:bank': 0.25, 'probe:indigenous_people': 0.25, 'probe:funeral_insurance': 0.5, 'probe:funeral_plan': 0.4375, 'probe:policy': 0.25, 'probe:see': 0.4375, 'probe:due': 0.6875, 'probe:process': 0.3125, 'darwin_tuesday:funeral_insurance': 0.5454545454545454, 'darwin_tuesday:community_benefit': 0.36363636363636365, 'majority:people': 0.25, 'majority:funeral_insurance': 0.25, 'majority:government': 0.25, 'majority:world': 0.3333333333333333, 'majority:process': 0.25, 'majority:aboriginal_organisation': 0.25, 'misconduct:bank': 0.2222222222222222, 'financial_exclusion:people': 0.3333333333333333, 'financial_exclusion:economy': 0.3333333333333333, 'financial_exclusion:death': 0.3333333333333333, 'financial_exclusion:funeral': 0.3333333333333333, 'financial_exclusion:funeral_insurance': 0.3333333333333333, 'financial_exclusion:policy': 0.3333333333333333, 'financial_exclusion:process': 0.3333333333333333, 'financial_exclusion:aboriginal_person': 0.3333333333333333, 'financial_exclusion:indigenous_australian': 0.3333333333333333, 'politics_federal:time': 0.2727272727272727, 'politics_federal:back': 0.22727272727272727, 'debt:time': 0.30434782608695654, 'debt:bank': 0.5652173913043478, 'assess:report': 0.42857142857142855}\n"
     ]
    }
   ],
   "source": [
    "# Edge Weighing as per Inverse Frequency evaluation\n",
    "print(edge_weight_conet)"
   ]
  },
  {
   "cell_type": "code",
   "execution_count": 20,
   "metadata": {},
   "outputs": [
    {
     "name": "stdout",
     "output_type": "stream",
     "text": [
      "{'people:time': 4.484599589322382, 'people:level': 2.5626283367556466, 'people:community': 2.5626283367556466, 'people:policy': 2.135523613963039, 'people:bank': 4.271047227926078, 'people:australian': 2.135523613963039, 'people:debt': 2.5626283367556466, 'funeral_insurance:sunshine_coast': 4.139630390143737, 'funeral_insurance:people': 3.4496919917864477, 'funeral_insurance:indigenous_people': 4.829568788501026, 'funeral_insurance:death': 2.0698151950718686, 'funeral_insurance:funeral_plan': 3.2197125256673513, 'funeral_insurance:community_benefit': 3.2197125256673513, 'funeral_insurance:community': 3.2197125256673513, 'funeral_insurance:policy': 6.209445585215605, 'funeral_insurance:bank': 2.0698151950718686, 'funeral_insurance:see': 2.299794661190965, 'funeral_insurance:due': 2.9897330595482545, 'funeral_insurance:sydney': 3.2197125256673513, 'funeral_insurance:incentive_schemes': 3.4496919917864477, 'funeral_insurance:aboriginal': 4.369609856262834, 'funeral_insurance:misconduct': 3.2197125256673513, 'time:bank': 5.305954825462012, 'time:world': 2.2340862422997945, 'time:see': 3.351129363449692, 'government:bank': 2.8275154004106775, 'policy:member': 2.802874743326489, 'policy:people': 3.0184804928131417, 'policy:indigenous_people': 3.0184804928131417, 'policy:funeral_insurance': 4.096509240246407, 'policy:community': 2.371663244353183, 'policy:bank': 2.1560574948665296, 'policy:aboriginal': 2.5872689938398357, 'back:australian': 2.162217659137577, 'bank:member': 4.024640657084189, 'bank:group': 19.117043121149898, 'bank:state': 6.036960985626283, 'bank:china': 4.024640657084189, 'bank:people': 28.17248459958932, 'bank:indigenous_people': 4.024640657084189, 'bank:economy': 7.04312114989733, 'bank:funeral': 4.024640657084189, 'bank:funeral_insurer': 2.0123203285420943, 'bank:funeral_insurance': 7.04312114989733, 'bank:report': 13.080082135523615, 'bank:trade_war': 2.0123203285420943, 'bank:war': 3.0184804928131417, 'bank:time': 45.27720739219713, 'bank:level': 14.08624229979466, 'bank:counsel_assisting': 3.0184804928131417, 'bank:government': 14.08624229979466, 'bank:home_loan': 19.117043121149898, 'bank:interest': 26.16016427104723, 'bank:interest_rate': 8.049281314168377, 'bank:community_benefit': 3.0184804928131417, 'bank:community': 11.067761806981519, 'bank:failure': 9.055441478439425, 'bank:policy': 20.123203285420946, 'bank:monetary_policy': 9.055441478439425, 'bank:back': 18.11088295687885, 'bank:major_bank': 6.036960985626283, 'bank:rural_bank': 15.092402464065708, 'bank:reason': 12.073921971252567, 'bank:world': 10.061601642710473, 'bank:see': 22.135523613963038, 'bank:cut': 8.049281314168377, 'bank:process': 18.11088295687885, 'bank:claim': 5.030800821355236, 'bank:brisbane': 5.030800821355236, 'bank:sydney': 4.024640657084189, 'bank:wealth_management': 24.147843942505133, 'bank:campaign': 3.0184804928131417, 'bank:response': 8.049281314168377, 'bank:opportunity': 8.049281314168377, 'bank:wait': 6.036960985626283, 'bank:aboriginal_person': 2.0123203285420943, 'bank:aboriginal': 7.04312114989733, 'bank:australian': 27.166324435318277, 'bank:australian_securitie': 7.04312114989733, 'bank:investigation': 7.04312114989733, 'bank:probe': 4.024640657084189, 'bank:cent': 5.030800821355236, 'bank:misconduct': 38.234086242299796, 'bank:debt': 26.16016427104723, 'bank:assess': 11.067761806981519, 'see:time': 3.3182751540041067, 'see:bank': 3.11088295687885, 'australian:member': 2.3983572895277208, 'australian:people': 2.3983572895277208, 'australian:economy': 4.496919917864476, 'australian:war': 2.3983572895277208, 'australian:time': 5.3963039014373715, 'australian:government': 2.0985626283367558, 'australian:interest_rate': 5.3963039014373715, 'australian:policy': 2.0985626283367558, 'australian:back': 2.3983572895277208, 'australian:bank': 8.094455852156058, 'australian:world': 2.6981519507186857, 'australian:see': 3.297741273100616, 'australian:claim': 2.0985626283367558, 'australian:politics_federal': 4.496919917864476, 'australian:debt': 2.0985626283367558, 'misconduct:bank': 2.9938398357289526, 'misconduct:aboriginal': 2.4948665297741273, 'debt:bank': 2.455852156057495}\n"
     ]
    }
   ],
   "source": [
    "# # Edge Weighing as per Direct Frequency evaluation\n",
    "edge_weight_direct=dict()\n",
    "\n",
    "for key,val in co_occur_net.items():\n",
    "    composite_topics=key.split(':')\n",
    "    source_topic=composite_topics[0]    \n",
    "    if(source_topic in topic_freq.keys()):\n",
    "        ind_freq=topic_freq[source_topic]\n",
    "        if(ind_freq > 0):\n",
    "            ew= (val*np.int(ind_freq))/delta_freq\n",
    "            if(ew>2):\n",
    "                edge_weight_direct[key]=ew\n",
    "                \n",
    "print(edge_weight_direct)"
   ]
  },
  {
   "cell_type": "code",
   "execution_count": 21,
   "metadata": {
    "collapsed": true
   },
   "outputs": [],
   "source": [
    "# Make CSV of bigram co-occurrence net\n",
    "sourceNode=[]\n",
    "targetNode=[]\n",
    "edgeWeight=[]\n",
    "\n",
    "for key,val in edge_weight_conet.items():\n",
    "    composite_topics=key.split(':')\n",
    "    sourceNode.append(composite_topics[0])\n",
    "    targetNode.append(composite_topics[1])\n",
    "    edgeWeight.append(val)\n",
    "    \n",
    "for key,val in edge_weight_direct.items():\n",
    "    composite_topics=key.split(':')\n",
    "    sourceNode.append(composite_topics[0])\n",
    "    targetNode.append(composite_topics[1])\n",
    "    edgeWeight.append(val)\n",
    "    \n",
    "cooccur_df=pd.DataFrame()\n",
    "cooccur_df['source']=sourceNode\n",
    "cooccur_df['target']=targetNode\n",
    "cooccur_df['weight']=edgeWeight\n",
    "\n",
    "cooccur_df.to_csv('30_topics_compositeEdge_bigram_cooccurrence_net.csv',index=False,encoding='utf-8')"
   ]
  },
  {
   "cell_type": "code",
   "execution_count": 22,
   "metadata": {},
   "outputs": [
    {
     "name": "stdout",
     "output_type": "stream",
     "text": [
      "{'sunshine_coast:incentive_schemes:sydney': 0.3, 'vulnerable_people:funeral:people': 0.15625, 'vulnerable_people:funeral:funeral_insurance': 0.171875, 'vulnerable_people:funeral:community': 0.21875, 'vulnerable_people:funeral:policy': 0.171875, 'vulnerable_people:funeral:aboriginal': 0.203125, 'vulnerable_people:funeral_insurance:policy': 0.12053571428571429, 'vulnerable_people:indigenous_community:people': 0.25, 'vulnerable_people:indigenous_community:funeral_insurance': 0.25, 'vulnerable_people:indigenous_community:funeral_plan': 0.25, 'vulnerable_people:indigenous_community:policy': 0.25, 'vulnerable_people:indigenous_community:see': 0.25, 'vulnerable_people:indigenous_community:majority': 0.25, 'vulnerable_people:community_benefit:funeral_plan': 0.1372549019607843, 'vulnerable_people:aboriginal_organisation:funeral_insurance': 0.16666666666666666, 'vulnerable_people:aboriginal_organisation:funeral_plan': 0.1111111111111111, 'vulnerable_people:aboriginal_organisation:community_benefit': 0.1388888888888889, 'vulnerable_people:darwin_tuesday:funeral_insurance': 0.1818181818181818, 'vulnerable_people:darwin_tuesday:community_benefit': 0.12121212121212122, 'death:funeral_plan:see': 0.12962962962962962, 'death:probe:funeral_insurance': 0.12962962962962962, 'death:probe:funeral_plan': 0.11342592592592592, 'death:probe:see': 0.11342592592592592, 'death:probe:due': 0.17824074074074073, 'funeral:aboriginal:community': 0.13829787234042554, 'costly_funeral:counsel_assisting:funeral_insurance': 0.13043478260869565, 'costly_funeral:darwin_tuesday:funeral_insurance': 0.13636363636363635, 'funeral_insurer:funeral_plan:funeral_insurance': 0.125, 'funeral_insurer:funeral_plan:see': 0.25, 'funeral_insurer:community_benefit:funeral_plan': 0.1764705882352941, 'funeral_insurer:community_benefit:bank': 0.10084033613445377, 'funeral_insurer:community_benefit:aboriginal': 0.10084033613445377, 'funeral_insurer:aboriginal_organisation:funeral_insurance': 0.21428571428571427, 'funeral_insurer:aboriginal_organisation:funeral_plan': 0.14285714285714285, 'funeral_insurer:aboriginal_organisation:counsel_assisting': 0.10714285714285714, 'funeral_insurer:aboriginal_organisation:community_benefit': 0.17857142857142858, 'funeral_insurer:aboriginal_organisation:scrutiny_aboriginal': 0.10714285714285714, 'funeral_insurer:scrutiny_aboriginal:people': 0.14285714285714288, 'funeral_insurer:scrutiny_aboriginal:death': 0.14285714285714288, 'funeral_insurer:scrutiny_aboriginal:funeral_plan': 0.35714285714285715, 'funeral_insurer:scrutiny_aboriginal:counsel_assisting': 0.21428571428571427, 'funeral_insurer:scrutiny_aboriginal:community_benefit': 0.35714285714285715, 'funeral_insurer:scrutiny_aboriginal:community': 0.14285714285714288, 'funeral_insurer:scrutiny_aboriginal:aboriginal': 0.14285714285714288, 'funeral_insurer:scrutiny_aboriginal:aboriginal_organisation': 0.14285714285714288, 'funeral_insurer:indigenous_australian:indigenous_people': 0.10714285714285714, 'funeral_insurer:indigenous_australian:funeral_insurance': 0.14285714285714288, 'funeral_insurer:indigenous_australian:counsel_assisting': 0.10714285714285714, 'funeral_insurer:indigenous_australian:community_benefit': 0.10714285714285714, 'funeral_insurer:indigenous_australian:aboriginal_organisation': 0.14285714285714288, 'funeral_insurer:indigenous_australian:scrutiny_aboriginal': 0.10714285714285714, 'funeral_insurer:darwin_tuesday:funeral_insurance': 0.1558441558441558, 'funeral_insurer:darwin_tuesday:community_benefit': 0.10389610389610389, 'indigenous_community:funeral_insurance:policy': 0.12053571428571429, 'indigenous_community:funeral_plan:funeral_insurance': 0.125, 'indigenous_community:funeral_plan:see': 0.25, 'indigenous_community:majority:people': 0.125, 'indigenous_community:majority:funeral_insurance': 0.125, 'indigenous_community:majority:government': 0.125, 'indigenous_community:majority:world': 0.16666666666666666, 'indigenous_community:majority:process': 0.125, 'indigenous_community:majority:aboriginal_organisation': 0.125, 'community_benefit:funeral_plan:funeral_insurance': 0.10294117647058823, 'community_benefit:funeral_plan:see': 0.20588235294117646, 'independent_report:law_firm:report': 0.16000000000000003, 'tax_cut:cut:government': 0.10526315789473684, 'sydney_call:sunshine_coast:funeral_insurance': 0.2222222222222222, 'sydney_call:sunshine_coast:sydney': 0.3333333333333333, 'sydney_call:sunshine_coast:incentive_schemes': 0.3333333333333333, 'sydney_call:funeral_insurance:policy': 0.24107142857142858, 'sydney_call:sydney:sunshine_coast': 0.17560975609756097, 'sydney_call:incentive_schemes:sunshine_coast': 0.81, 'sydney_call:incentive_schemes:sydney': 0.81, 'response:level:bank': 0.11282051282051282, 'response:debt:bank': 0.1507246376811594, 'incentive_schemes:sunshine_coast:funeral_insurance': 0.19999999999999998, 'incentive_schemes:sunshine_coast:sydney': 0.3, 'incentive_schemes:sydney:sunshine_coast': 0.2634146341463415, 'aboriginal_person:death:funeral_insurance': 0.14814814814814814, 'aboriginal_person:death:funeral_plan': 0.1728395061728395, 'aboriginal_person:death:see': 0.19753086419753085, 'aboriginal_person:death:due': 0.19753086419753085, 'aboriginal_person:death:probe': 0.1728395061728395, 'aboriginal_person:funeral_insurance:policy': 0.1607142857142857, 'aboriginal_person:indigenous_australian:indigenous_people': 0.19999999999999998, 'aboriginal_person:indigenous_australian:funeral_insurance': 0.26666666666666666, 'aboriginal_person:indigenous_australian:counsel_assisting': 0.19999999999999998, 'aboriginal_person:indigenous_australian:community_benefit': 0.19999999999999998, 'aboriginal_person:indigenous_australian:aboriginal_organisation': 0.26666666666666666, 'aboriginal_person:indigenous_australian:scrutiny_aboriginal': 0.19999999999999998, 'aboriginal_person:financial_exclusion:people': 0.1111111111111111, 'aboriginal_person:financial_exclusion:economy': 0.1111111111111111, 'aboriginal_person:financial_exclusion:death': 0.1111111111111111, 'aboriginal_person:financial_exclusion:funeral': 0.1111111111111111, 'aboriginal_person:financial_exclusion:funeral_insurance': 0.1111111111111111, 'aboriginal_person:financial_exclusion:policy': 0.1111111111111111, 'aboriginal_person:financial_exclusion:process': 0.1111111111111111, 'aboriginal_person:financial_exclusion:indigenous_australian': 0.1111111111111111, 'aboriginal_organisation:funeral_insurance:policy': 0.12053571428571429, 'aboriginal_organisation:funeral_plan:see': 0.16666666666666666, 'aboriginal_organisation:community_benefit:funeral_plan': 0.1715686274509804, 'aboriginal_organisation:scrutiny_aboriginal:funeral_plan': 0.25, 'aboriginal_organisation:scrutiny_aboriginal:counsel_assisting': 0.15, 'aboriginal_organisation:scrutiny_aboriginal:community_benefit': 0.25, 'scrutiny_aboriginal:death:funeral_plan': 0.1037037037037037, 'scrutiny_aboriginal:death:see': 0.11851851851851852, 'scrutiny_aboriginal:death:due': 0.11851851851851852, 'scrutiny_aboriginal:death:probe': 0.1037037037037037, 'scrutiny_aboriginal:funeral_plan:funeral_insurance': 0.25, 'scrutiny_aboriginal:funeral_plan:see': 0.5, 'scrutiny_aboriginal:counsel_assisting:funeral_insurance': 0.15652173913043477, 'scrutiny_aboriginal:community_benefit:funeral_plan': 0.4117647058823529, 'scrutiny_aboriginal:community_benefit:bank': 0.23529411764705882, 'scrutiny_aboriginal:community_benefit:aboriginal': 0.23529411764705882, 'scrutiny_aboriginal:aboriginal:community': 0.13617021276595745, 'scrutiny_aboriginal:aboriginal_organisation:funeral_insurance': 0.2, 'scrutiny_aboriginal:aboriginal_organisation:funeral_plan': 0.13333333333333333, 'scrutiny_aboriginal:aboriginal_organisation:community_benefit': 0.16666666666666669, 'indigenous_australian:community_benefit:funeral_plan': 0.12352941176470587, 'indigenous_australian:aboriginal_organisation:funeral_insurance': 0.2, 'indigenous_australian:aboriginal_organisation:funeral_plan': 0.13333333333333333, 'indigenous_australian:aboriginal_organisation:community_benefit': 0.16666666666666669, 'indigenous_australian:scrutiny_aboriginal:people': 0.12, 'indigenous_australian:scrutiny_aboriginal:death': 0.12, 'indigenous_australian:scrutiny_aboriginal:funeral_plan': 0.3, 'indigenous_australian:scrutiny_aboriginal:counsel_assisting': 0.18, 'indigenous_australian:scrutiny_aboriginal:community_benefit': 0.3, 'indigenous_australian:scrutiny_aboriginal:community': 0.12, 'indigenous_australian:scrutiny_aboriginal:aboriginal': 0.12, 'indigenous_australian:scrutiny_aboriginal:aboriginal_organisation': 0.12, 'probe:funeral_insurance:policy': 0.12053571428571429, 'probe:funeral_plan:funeral_insurance': 0.109375, 'probe:funeral_plan:see': 0.21875, 'probe:due:see': 0.1644021739130435, 'darwin_tuesday:funeral_insurance:policy': 0.1314935064935065, 'darwin_tuesday:community_benefit:funeral_plan': 0.1497326203208556, 'majority:aboriginal_organisation:funeral_insurance': 0.125, 'majority:aboriginal_organisation:community_benefit': 0.10416666666666667, 'financial_exclusion:funeral:people': 0.10416666666666666, 'financial_exclusion:funeral:funeral_insurance': 0.11458333333333333, 'financial_exclusion:funeral:community': 0.14583333333333331, 'financial_exclusion:funeral:policy': 0.11458333333333333, 'financial_exclusion:funeral:aboriginal': 0.13541666666666666, 'financial_exclusion:aboriginal_person:indigenous_people': 0.1111111111111111, 'financial_exclusion:aboriginal_person:death': 0.2222222222222222, 'financial_exclusion:aboriginal_person:funeral_insurance': 0.2222222222222222, 'financial_exclusion:aboriginal_person:indigenous_australian': 0.2222222222222222, 'financial_exclusion:indigenous_australian:funeral_insurance': 0.13333333333333333, 'financial_exclusion:indigenous_australian:aboriginal_organisation': 0.13333333333333333}"
     ]
    },
    {
     "name": "stdout",
     "output_type": "stream",
     "text": [
      "\n"
     ]
    }
   ],
   "source": [
    "# Make trigrams based on Inverse Frequency Distribution :\n",
    "\n",
    "#edge_weight_conet=dict()\n",
    "trigram_weight_conet=dict()\n",
    "stop_words_trigram=['hear', 'business','australian','time','believe','support','public','new','fall','smh','html','make','june','child','year']\n",
    "\n",
    "for key,val in edge_weight_conet.items():\n",
    "    composite_topics=key.split(':')\n",
    "    bi_source_topic=composite_topics[0]    \n",
    "    bi_target_topic=composite_topics[1]\n",
    "    if((bi_source_topic not in stop_words_trigram) and (bi_target_topic not in stop_words_trigram)):\n",
    "        for key2,val2 in edge_weight_conet.items():\n",
    "            composite_topics2=key2.split(':')\n",
    "            inner_source_topic=composite_topics2[0]\n",
    "            inner_target_topic=composite_topics2[1]\n",
    "            #print(bi_target_topic , inner_source_topic)\n",
    "            if (bi_target_topic == inner_source_topic and inner_target_topic != bi_source_topic and (inner_target_topic not in stop_words_trigram)):\n",
    "                trigram_key=bi_source_topic+':'+bi_target_topic+':'+inner_target_topic\n",
    "                trigram_weight=val*val2\n",
    "                if(trigram_weight > .1):\n",
    "                    trigram_weight_conet[trigram_key]=trigram_weight\n",
    "            #if (bi_source_topic == inner_target_topic and inner_source_topic != bi_target_topic and (inner_source_topic not in stop_words_trigram)):\n",
    "                #trigram_key2=inner_source_topic+':'+inner_target_topic+':'+bi_target_topic\n",
    "                #trigram_weight2=val*val2\n",
    "                #if(trigram_weight > .1):\n",
    "                    #trigram_weight_conet[trigram_key2]=trigram_weight2\n",
    "    \n",
    "print(trigram_weight_conet)"
   ]
  },
  {
   "cell_type": "code",
   "execution_count": 23,
   "metadata": {},
   "outputs": [
    {
     "name": "stdout",
     "output_type": "stream",
     "text": [
      "{'people:bank:group': 81.64979402873057, 'people:bank:level': 60.163006126433054, 'people:bank:government': 60.163006126433054, 'people:bank:home_loan': 81.64979402873057, 'people:bank:interest': 111.7312970919471, 'people:bank:policy': 85.94715160919009, 'people:bank:back': 77.35243644827106, 'people:bank:rural_bank': 64.46036370689255, 'people:bank:see': 94.54186677010908, 'people:bank:process': 77.35243644827106, 'people:bank:wealth_management': 103.13658193102809, 'people:bank:misconduct': 163.29958805746114, 'people:bank:debt': 111.7312970919471, 'funeral_insurance:bank:misconduct': 79.1374926740004, 'government:bank:people': 79.65813407317144, 'government:bank:interest': 73.9682673536592, 'government:bank:see': 62.58853391463471, 'government:bank:wealth_management': 68.27840063414696, 'government:bank:misconduct': 108.10746767073269, 'government:bank:debt': 73.9682673536592, 'policy:bank:people': 60.74149656995644, 'policy:bank:misconduct': 82.43488820208374, 'bank:people:level': 72.19560735171964, 'bank:people:community': 72.19560735171964, 'bank:people:policy': 60.163006126433054, 'bank:people:debt': 72.19560735171964, 'bank:policy:people': 60.741496569956446, 'bank:policy:indigenous_people': 60.741496569956446, 'bank:policy:funeral_insurance': 82.43488820208376, 'bank:misconduct:aboriginal': 95.38894206241119, 'see:bank:people': 87.64130219379429, 'see:bank:interest': 81.38120917995185, 'see:bank:policy': 62.6009301384245, 'see:bank:wealth_management': 75.1211161661094, 'see:bank:misconduct': 118.94176726300655, 'see:bank:debt': 81.38120917995185, 'misconduct:bank:people': 84.34390666571095, 'misconduct:bank:interest': 78.31934190387445, 'misconduct:bank:policy': 60.24564761836496, 'misconduct:bank:see': 66.27021238020146, 'misconduct:bank:wealth_management': 72.29477714203796, 'misconduct:bank:debt': 78.31934190387445, 'debt:bank:people': 69.187457045398, 'debt:bank:interest': 64.24549582786959, 'debt:bank:misconduct': 93.89726313304017}\n"
     ]
    }
   ],
   "source": [
    "# Make trigrams based on Direct Frequency Distribution :\n",
    "\n",
    "trigram_weight_direct=dict()\n",
    "#stop_words_trigram=['hear', 'business','australian','time','believe','support','public','new','fall','smh','html','make','june','child','year']\n",
    "\n",
    "for key,val in edge_weight_direct.items():\n",
    "    composite_topics=key.split(':')\n",
    "    bi_source_topic=composite_topics[0]    \n",
    "    bi_target_topic=composite_topics[1]\n",
    "    if((bi_source_topic not in stop_words_trigram) and (bi_target_topic not in stop_words_trigram)):\n",
    "        for key2,val2 in edge_weight_direct.items():\n",
    "            composite_topics2=key2.split(':')\n",
    "            inner_source_topic=composite_topics2[0]\n",
    "            inner_target_topic=composite_topics2[1]\n",
    "            #print(bi_target_topic , inner_source_topic)\n",
    "            if (bi_target_topic == inner_source_topic and inner_target_topic != bi_source_topic and (inner_target_topic not in stop_words_trigram)):\n",
    "                trigram_key=bi_source_topic+':'+bi_target_topic+':'+inner_target_topic\n",
    "                trigram_weight=val*val2\n",
    "                if(trigram_weight > 60):\n",
    "                    trigram_weight_direct[trigram_key]=trigram_weight            \n",
    "    \n",
    "print(trigram_weight_direct)"
   ]
  },
  {
   "cell_type": "code",
   "execution_count": 24,
   "metadata": {
    "collapsed": true
   },
   "outputs": [],
   "source": [
    "# Make CSV of trigram co-occurrence net\n",
    "sourceNode_trig=[]\n",
    "targetNode_trig=[]\n",
    "edgeWeight_trig=[]\n",
    "\n",
    "for key,val in trigram_weight_conet.items():\n",
    "    composite_topics=key.split(':')\n",
    "    source=composite_topics[0]+':'+composite_topics[1]\n",
    "    sourceNode_trig.append(source)\n",
    "    targetNode_trig.append(composite_topics[2])\n",
    "    edgeWeight_trig.append(val)\n",
    "    \n",
    "for key,val in trigram_weight_direct.items():\n",
    "    composite_topics=key.split(':')\n",
    "    source=composite_topics[0]+':'+composite_topics[1]\n",
    "    sourceNode_trig.append(source)\n",
    "    targetNode_trig.append(composite_topics[2])\n",
    "    edgeWeight_trig.append(val)\n",
    "    \n",
    "tri_cooccur_df=pd.DataFrame()\n",
    "tri_cooccur_df['source']=sourceNode_trig\n",
    "tri_cooccur_df['target']=targetNode_trig\n",
    "tri_cooccur_df['weight']=edgeWeight_trig\n",
    "\n",
    "#tri_cooccur_df.to_csv('50top_lawDom_3gram__cooccurrence_net.csv',index=False,encoding='utf-8')\n",
    "tri_cooccur_df.to_csv('30top_SLG_Dom_3gram_compositeEdge_cooccurrence_net.csv',index=False,encoding='utf-8')"
   ]
  },
  {
   "cell_type": "code",
   "execution_count": 25,
   "metadata": {},
   "outputs": [
    {
     "name": "stdout",
     "output_type": "stream",
     "text": [
      "{'vulnerable_people:indigenous_community:funeral_plan:see': 0.125, 'funeral_insurer:aboriginal_organisation:scrutiny_aboriginal:funeral_plan': 0.10714285714285714, 'funeral_insurer:aboriginal_organisation:scrutiny_aboriginal:community_benefit': 0.10714285714285714, 'funeral_insurer:scrutiny_aboriginal:funeral_plan:see': 0.17857142857142858, 'funeral_insurer:scrutiny_aboriginal:community_benefit:funeral_plan': 0.14705882352941177, 'funeral_insurer:indigenous_australian:scrutiny_aboriginal:funeral_plan': 0.10714285714285714, 'funeral_insurer:indigenous_australian:scrutiny_aboriginal:community_benefit': 0.10714285714285714, 'sydney_call:sunshine_coast:incentive_schemes:sydney': 0.3, 'sydney_call:incentive_schemes:sunshine_coast:funeral_insurance': 0.18, 'sydney_call:incentive_schemes:sunshine_coast:sydney': 0.27, 'sydney_call:incentive_schemes:sydney:sunshine_coast': 0.2370731707317073, 'aboriginal_person:death:probe:due': 0.11882716049382716, 'aboriginal_person:indigenous_australian:aboriginal_organisation:funeral_insurance': 0.13333333333333333, 'aboriginal_person:indigenous_australian:aboriginal_organisation:community_benefit': 0.11111111111111112, 'aboriginal_person:indigenous_australian:scrutiny_aboriginal:funeral_plan': 0.19999999999999998, 'aboriginal_person:indigenous_australian:scrutiny_aboriginal:counsel_assisting': 0.11999999999999998, 'aboriginal_person:indigenous_australian:scrutiny_aboriginal:community_benefit': 0.19999999999999998, 'aboriginal_organisation:scrutiny_aboriginal:funeral_plan:see': 0.125, 'aboriginal_organisation:scrutiny_aboriginal:community_benefit:funeral_plan': 0.10294117647058823, 'scrutiny_aboriginal:community_benefit:funeral_plan:funeral_insurance': 0.10294117647058823, 'scrutiny_aboriginal:community_benefit:funeral_plan:see': 0.20588235294117646, 'indigenous_australian:scrutiny_aboriginal:funeral_plan:see': 0.15, 'indigenous_australian:scrutiny_aboriginal:community_benefit:funeral_plan': 0.12352941176470587}\n"
     ]
    }
   ],
   "source": [
    "# Make 4grams based on Inverse Frequency Distribution :\n",
    "\n",
    "fourgram_weight_conet=dict()\n",
    "\n",
    "for key3,val3 in trigram_weight_conet.items():\n",
    "    composite_topics=key3.split(':')\n",
    "    tri_source_topic1=composite_topics[0]\n",
    "    tri_source_topic2=composite_topics[1]\n",
    "    tri_target_topic=composite_topics[2]\n",
    "    for key4,val4 in edge_weight_conet.items():\n",
    "        composite_topics2=key4.split(':')\n",
    "        inner_source_topic=composite_topics2[0]\n",
    "        inner_target_topic=composite_topics2[1]\n",
    "        #print(bi_target_topic , inner_source_topic)\n",
    "        if (tri_target_topic == inner_source_topic and inner_target_topic != tri_source_topic1 and inner_target_topic != tri_source_topic2 and (inner_target_topic not in stop_words_trigram)):\n",
    "            fourgram_key=tri_source_topic1+':'+tri_source_topic2+':'+tri_target_topic+':'+inner_target_topic\n",
    "            fourgram_weight=val3*val4\n",
    "            if(fourgram_weight > 0.1):\n",
    "                fourgram_weight_conet[fourgram_key]=fourgram_weight\n",
    "        #if (tri_source_topic1 == inner_target_topic and inner_source_topic != tri_target_topic and inner_source_topic != tri_source_topic2 and (inner_source_topic not in stop_words_trigram)):\n",
    "            #fourgram_key=inner_source_topic+':'+inner_target_topic+':'+tri_source_topic2+':'+tri_target_topic\n",
    "            #fourgram_weight=val3*val4\n",
    "            #if(fourgram_weight > 0.1):\n",
    "            #fourgram_weight_conet[fourgram_key]=fourgram_weight    \n",
    "    \n",
    "print(fourgram_weight_conet)"
   ]
  },
  {
   "cell_type": "code",
   "execution_count": 30,
   "metadata": {},
   "outputs": [
    {
     "name": "stdout",
     "output_type": "stream",
     "text": [
      "{'people:bank:policy:member': 240.8991005062515, 'people:bank:policy:indigenous_people': 259.42980054519387, 'people:bank:policy:funeral_insurance': 352.083300739906, 'people:bank:policy:community': 203.83770042836665, 'people:bank:policy:aboriginal': 222.36840046730904, 'people:bank:misconduct:aboriginal': 407.41067657046256, 'government:bank:people:level': 204.1341916289896, 'government:bank:people:community': 204.1341916289896, 'government:bank:people:debt': 204.1341916289896, 'government:bank:misconduct:aboriginal': 269.71370271034954, 'policy:bank:misconduct:aboriginal': 205.6640434610508, 'bank:people:policy:funeral_insurance': 246.4583105179342, 'bank:policy:funeral_insurance:sunshine_coast': 341.2499684094473, 'bank:policy:funeral_insurance:people': 284.37497367453943, 'bank:policy:funeral_insurance:indigenous_people': 398.1249631443552, 'bank:policy:funeral_insurance:funeral_plan': 265.41664209623684, 'bank:policy:funeral_insurance:community_benefit': 265.41664209623684, 'bank:policy:funeral_insurance:community': 265.41664209623684, 'bank:policy:funeral_insurance:due': 246.45831051793417, 'bank:policy:funeral_insurance:sydney': 265.41664209623684, 'bank:policy:funeral_insurance:incentive_schemes': 284.37497367453943, 'bank:policy:funeral_insurance:aboriginal': 360.20829998774997, 'bank:policy:funeral_insurance:misconduct': 265.41664209623684, 'see:bank:people:level': 224.59208447198205, 'see:bank:people:community': 224.59208447198205, 'see:bank:people:debt': 224.59208447198205, 'see:bank:policy:funeral_insurance': 256.44528876007575, 'see:bank:misconduct:aboriginal': 296.7438341366591, 'misconduct:bank:people:level': 216.14208525422433, 'misconduct:bank:people:community': 216.14208525422433, 'misconduct:bank:people:debt': 216.14208525422433, 'misconduct:bank:policy:funeral_insurance': 246.796852153261, 'debt:bank:misconduct:aboriginal': 234.26113902801603}\n"
     ]
    }
   ],
   "source": [
    "# Make 4grams based on Direct Frequency Distribution :\n",
    "\n",
    "fourgram_weight_direct=dict()\n",
    "\n",
    "for key3,val3 in trigram_weight_direct.items():\n",
    "    composite_topics=key3.split(':')\n",
    "    tri_source_topic1=composite_topics[0]\n",
    "    tri_source_topic2=composite_topics[1]\n",
    "    tri_target_topic=composite_topics[2]\n",
    "    for key4,val4 in edge_weight_direct.items():\n",
    "        composite_topics2=key4.split(':')\n",
    "        inner_source_topic=composite_topics2[0]\n",
    "        inner_target_topic=composite_topics2[1]\n",
    "        #print(bi_target_topic , inner_source_topic)\n",
    "        if (tri_target_topic == inner_source_topic and inner_target_topic != tri_source_topic1 and inner_target_topic != tri_source_topic2 and (inner_target_topic not in stop_words_trigram)):\n",
    "            fourgram_key=tri_source_topic1+':'+tri_source_topic2+':'+tri_target_topic+':'+inner_target_topic\n",
    "            fourgram_weight=val3*val4\n",
    "            if(fourgram_weight > 200):\n",
    "                fourgram_weight_direct[fourgram_key]=fourgram_weight        \n",
    "    \n",
    "print(fourgram_weight_direct)"
   ]
  },
  {
   "cell_type": "code",
   "execution_count": 31,
   "metadata": {
    "collapsed": true
   },
   "outputs": [],
   "source": [
    "# Make CSV of fourgram co-occurrence net\n",
    "\n",
    "sourceNode_4g=[]\n",
    "targetNode_4g=[]\n",
    "edgeWeight_4g=[]\n",
    "\n",
    "for key,val in fourgram_weight_conet.items():\n",
    "    composite_topics=key.split(':')\n",
    "    source=composite_topics[0]+':'+composite_topics[1]+':'+composite_topics[2]\n",
    "    sourceNode_4g.append(source)\n",
    "    targetNode_4g.append(composite_topics[3])\n",
    "    edgeWeight_4g.append(val)\n",
    "\n",
    "for key,val in fourgram_weight_direct.items():\n",
    "    composite_topics=key.split(':')\n",
    "    source=composite_topics[0]+':'+composite_topics[1]+':'+composite_topics[2]\n",
    "    sourceNode_4g.append(source)\n",
    "    targetNode_4g.append(composite_topics[3])\n",
    "    edgeWeight_4g.append(val)\n",
    "    \n",
    "four_cooccur_df=pd.DataFrame()\n",
    "four_cooccur_df['source']=sourceNode_4g\n",
    "four_cooccur_df['target']=targetNode_4g\n",
    "four_cooccur_df['weight']=edgeWeight_4g\n",
    "\n",
    "four_cooccur_df.to_csv('30top_SLG_Dom_compositeEdge_4gram_cooccurrence_net.csv',index=False,encoding='utf-8')"
   ]
  },
  {
   "cell_type": "code",
   "execution_count": 32,
   "metadata": {},
   "outputs": [
    {
     "name": "stdout",
     "output_type": "stream",
     "text": [
      "{'funeral_insurer:aboriginal_organisation:scrutiny_aboriginal:funeral_plan:funeral_insurance': 0.026785714285714284, 'funeral_insurer:aboriginal_organisation:scrutiny_aboriginal:funeral_plan:see': 0.05357142857142857, 'funeral_insurer:aboriginal_organisation:scrutiny_aboriginal:community_benefit:funeral_plan': 0.044117647058823525, 'funeral_insurer:aboriginal_organisation:scrutiny_aboriginal:community_benefit:bank': 0.025210084033613443, 'funeral_insurer:aboriginal_organisation:scrutiny_aboriginal:community_benefit:aboriginal': 0.025210084033613443, 'funeral_insurer:scrutiny_aboriginal:community_benefit:funeral_plan:funeral_insurance': 0.03676470588235294, 'funeral_insurer:scrutiny_aboriginal:community_benefit:funeral_plan:see': 0.07352941176470588, 'funeral_insurer:indigenous_australian:scrutiny_aboriginal:funeral_plan:funeral_insurance': 0.026785714285714284, 'funeral_insurer:indigenous_australian:scrutiny_aboriginal:funeral_plan:see': 0.05357142857142857, 'funeral_insurer:indigenous_australian:scrutiny_aboriginal:community_benefit:funeral_plan': 0.044117647058823525, 'funeral_insurer:indigenous_australian:scrutiny_aboriginal:community_benefit:bank': 0.025210084033613443, 'funeral_insurer:indigenous_australian:scrutiny_aboriginal:community_benefit:aboriginal': 0.025210084033613443, 'sydney_call:incentive_schemes:sunshine_coast:funeral_insurance:policy': 0.04339285714285714, 'sydney_call:incentive_schemes:sydney:sunshine_coast:funeral_insurance': 0.052682926829268284, 'aboriginal_person:death:probe:due:see': 0.028415190552871714, 'aboriginal_person:indigenous_australian:aboriginal_organisation:funeral_insurance:policy': 0.03214285714285714, 'aboriginal_person:indigenous_australian:aboriginal_organisation:community_benefit:funeral_plan': 0.04575163398692811, 'aboriginal_person:indigenous_australian:aboriginal_organisation:community_benefit:bank': 0.026143790849673203, 'aboriginal_person:indigenous_australian:aboriginal_organisation:community_benefit:aboriginal': 0.026143790849673203, 'aboriginal_person:indigenous_australian:scrutiny_aboriginal:funeral_plan:funeral_insurance': 0.049999999999999996, 'aboriginal_person:indigenous_australian:scrutiny_aboriginal:funeral_plan:see': 0.09999999999999999, 'aboriginal_person:indigenous_australian:scrutiny_aboriginal:counsel_assisting:funeral_insurance': 0.03130434782608695, 'aboriginal_person:indigenous_australian:scrutiny_aboriginal:community_benefit:funeral_plan': 0.08235294117647057, 'aboriginal_person:indigenous_australian:scrutiny_aboriginal:community_benefit:bank': 0.04705882352941176, 'aboriginal_person:indigenous_australian:scrutiny_aboriginal:community_benefit:aboriginal': 0.04705882352941176, 'aboriginal_organisation:scrutiny_aboriginal:community_benefit:funeral_plan:funeral_insurance': 0.025735294117647058, 'aboriginal_organisation:scrutiny_aboriginal:community_benefit:funeral_plan:see': 0.051470588235294115, 'scrutiny_aboriginal:community_benefit:funeral_plan:funeral_insurance:policy': 0.024816176470588234, 'indigenous_australian:scrutiny_aboriginal:community_benefit:funeral_plan:funeral_insurance': 0.03088235294117647, 'indigenous_australian:scrutiny_aboriginal:community_benefit:funeral_plan:see': 0.06176470588235294}\n"
     ]
    }
   ],
   "source": [
    "# Try 5 gram based on Inverse Frequency Distribution :\n",
    "\n",
    "#fourgram_weight_conet=dict()\n",
    "fivegram_weight_conet=dict()\n",
    "\n",
    "for key5,val5 in fourgram_weight_conet.items():\n",
    "    composite_topics=key5.split(':')\n",
    "    four_source_topic1=composite_topics[0]\n",
    "    four_source_topic2=composite_topics[1]\n",
    "    four_source_topic3=composite_topics[2]\n",
    "    four_target_topic=composite_topics[3]\n",
    "    for key6,val6 in edge_weight_conet.items():\n",
    "        composite_topics2=key6.split(':')\n",
    "        inner_source_topic=composite_topics2[0]\n",
    "        inner_target_topic=composite_topics2[1]\n",
    "        #print(bi_target_topic , inner_source_topic)\n",
    "        if (four_target_topic == inner_source_topic and inner_target_topic != four_source_topic1 \n",
    "            and inner_target_topic != four_source_topic2 and inner_target_topic != four_source_topic3\n",
    "            and (inner_target_topic not in stop_words_trigram)):\n",
    "            fivegram_key=four_source_topic1+':'+four_source_topic2+':'+four_source_topic3+':'+four_target_topic+':'+inner_target_topic\n",
    "            fivegram_weight=val5*val6\n",
    "            #if(fivegram_weight > 0.1):\n",
    "            fivegram_weight_conet[fivegram_key]=fivegram_weight\n",
    "    \n",
    "    \n",
    "print(fivegram_weight_conet)"
   ]
  },
  {
   "cell_type": "code",
   "execution_count": 67,
   "metadata": {
    "collapsed": true
   },
   "outputs": [],
   "source": [
    "# Make CSV of fivegram co-occurrence net\n",
    "\n",
    "sourceNode_5g=[]\n",
    "targetNode_5g=[]\n",
    "edgeWeight_5g=[]\n",
    "\n",
    "for key,val in fivegram_weight_conet.items():\n",
    "    composite_topics=key.split(':')\n",
    "    source=composite_topics[0]+':'+composite_topics[1]+':'+composite_topics[2]+':'+composite_topics[3]\n",
    "    sourceNode_5g.append(source)\n",
    "    targetNode_5g.append(composite_topics[4])\n",
    "    edgeWeight_5g.append(val)\n",
    "    \n",
    "five_cooccur_df=pd.DataFrame()\n",
    "five_cooccur_df['source']=sourceNode_5g\n",
    "five_cooccur_df['target']=targetNode_5g\n",
    "five_cooccur_df['weight']=edgeWeight_5g\n",
    "\n",
    "five_cooccur_df.to_csv('50_topics_5gram_ooccurrence_net.csv',index=False,encoding='utf-8')"
   ]
  },
  {
   "cell_type": "code",
   "execution_count": null,
   "metadata": {
    "collapsed": true
   },
   "outputs": [],
   "source": []
  },
  {
   "cell_type": "code",
   "execution_count": null,
   "metadata": {
    "collapsed": true
   },
   "outputs": [],
   "source": []
  },
  {
   "cell_type": "code",
   "execution_count": null,
   "metadata": {
    "collapsed": true
   },
   "outputs": [],
   "source": []
  },
  {
   "cell_type": "code",
   "execution_count": null,
   "metadata": {
    "collapsed": true
   },
   "outputs": [],
   "source": []
  }
 ],
 "metadata": {
  "kernelspec": {
   "display_name": "Python 3",
   "language": "python",
   "name": "python3"
  },
  "language_info": {
   "codemirror_mode": {
    "name": "ipython",
    "version": 3
   },
   "file_extension": ".py",
   "mimetype": "text/x-python",
   "name": "python",
   "nbconvert_exporter": "python",
   "pygments_lexer": "ipython3",
   "version": "3.6.3"
  }
 },
 "nbformat": 4,
 "nbformat_minor": 2
}
